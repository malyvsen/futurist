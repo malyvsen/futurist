{
 "cells": [
  {
   "cell_type": "code",
   "execution_count": 1,
   "metadata": {},
   "outputs": [],
   "source": [
    "import numpy as np\n",
    "import pandas as pd\n",
    "from pipeline.parse import parse, parse_facebook\n",
    "from pipeline.join import join\n",
    "from pipeline.builtin_data import builtin_data"
   ]
  },
  {
   "cell_type": "code",
   "execution_count": 2,
   "metadata": {},
   "outputs": [
    {
     "output_type": "execute_result",
     "data": {
      "text/plain": "            New page likes\ndate                      \n2019-04-01              10\n2019-04-02              19\n2019-04-03              23\n2019-04-04              12\n2019-04-05               9",
      "text/html": "<div>\n<style scoped>\n    .dataframe tbody tr th:only-of-type {\n        vertical-align: middle;\n    }\n\n    .dataframe tbody tr th {\n        vertical-align: top;\n    }\n\n    .dataframe thead th {\n        text-align: right;\n    }\n</style>\n<table border=\"1\" class=\"dataframe\">\n  <thead>\n    <tr style=\"text-align: right;\">\n      <th></th>\n      <th>New page likes</th>\n    </tr>\n    <tr>\n      <th>date</th>\n      <th></th>\n    </tr>\n  </thead>\n  <tbody>\n    <tr>\n      <th>2019-04-01</th>\n      <td>10</td>\n    </tr>\n    <tr>\n      <th>2019-04-02</th>\n      <td>19</td>\n    </tr>\n    <tr>\n      <th>2019-04-03</th>\n      <td>23</td>\n    </tr>\n    <tr>\n      <th>2019-04-04</th>\n      <td>12</td>\n    </tr>\n    <tr>\n      <th>2019-04-05</th>\n      <td>9</td>\n    </tr>\n  </tbody>\n</table>\n</div>"
     },
     "metadata": {},
     "execution_count": 2
    }
   ],
   "source": [
    "likes = parse_facebook('../examples/facebook-insights.xls')\n",
    "likes.head()"
   ]
  },
  {
   "cell_type": "code",
   "execution_count": 3,
   "metadata": {},
   "outputs": [
    {
     "output_type": "execute_result",
     "data": {
      "text/plain": "            Alcohol prices\ndate                      \n2019-04-01      103.300000\n2019-05-01      105.000000\n2019-06-01      105.700000\n2019-07-01      106.800000\n2019-08-01      107.187539",
      "text/html": "<div>\n<style scoped>\n    .dataframe tbody tr th:only-of-type {\n        vertical-align: middle;\n    }\n\n    .dataframe tbody tr th {\n        vertical-align: top;\n    }\n\n    .dataframe thead th {\n        text-align: right;\n    }\n</style>\n<table border=\"1\" class=\"dataframe\">\n  <thead>\n    <tr style=\"text-align: right;\">\n      <th></th>\n      <th>Alcohol prices</th>\n    </tr>\n    <tr>\n      <th>date</th>\n      <th></th>\n    </tr>\n  </thead>\n  <tbody>\n    <tr>\n      <th>2019-04-01</th>\n      <td>103.300000</td>\n    </tr>\n    <tr>\n      <th>2019-05-01</th>\n      <td>105.000000</td>\n    </tr>\n    <tr>\n      <th>2019-06-01</th>\n      <td>105.700000</td>\n    </tr>\n    <tr>\n      <th>2019-07-01</th>\n      <td>106.800000</td>\n    </tr>\n    <tr>\n      <th>2019-08-01</th>\n      <td>107.187539</td>\n    </tr>\n  </tbody>\n</table>\n</div>"
     },
     "metadata": {},
     "execution_count": 3
    }
   ],
   "source": [
    "alcohol = builtin_data()[0]\n",
    "alcohol.head()"
   ]
  },
  {
   "cell_type": "code",
   "execution_count": 4,
   "metadata": {},
   "outputs": [
    {
     "output_type": "execute_result",
     "data": {
      "text/plain": "            Alcohol prices  New page likes\ndate                                      \n2019-04-01           103.3              10\n2019-04-02             NaN              19\n2019-04-03             NaN              23\n2019-04-04             NaN              12\n2019-04-05             NaN               9",
      "text/html": "<div>\n<style scoped>\n    .dataframe tbody tr th:only-of-type {\n        vertical-align: middle;\n    }\n\n    .dataframe tbody tr th {\n        vertical-align: top;\n    }\n\n    .dataframe thead th {\n        text-align: right;\n    }\n</style>\n<table border=\"1\" class=\"dataframe\">\n  <thead>\n    <tr style=\"text-align: right;\">\n      <th></th>\n      <th>Alcohol prices</th>\n      <th>New page likes</th>\n    </tr>\n    <tr>\n      <th>date</th>\n      <th></th>\n      <th></th>\n    </tr>\n  </thead>\n  <tbody>\n    <tr>\n      <th>2019-04-01</th>\n      <td>103.3</td>\n      <td>10</td>\n    </tr>\n    <tr>\n      <th>2019-04-02</th>\n      <td>NaN</td>\n      <td>19</td>\n    </tr>\n    <tr>\n      <th>2019-04-03</th>\n      <td>NaN</td>\n      <td>23</td>\n    </tr>\n    <tr>\n      <th>2019-04-04</th>\n      <td>NaN</td>\n      <td>12</td>\n    </tr>\n    <tr>\n      <th>2019-04-05</th>\n      <td>NaN</td>\n      <td>9</td>\n    </tr>\n  </tbody>\n</table>\n</div>"
     },
     "metadata": {},
     "execution_count": 4
    }
   ],
   "source": [
    "alcohol_likes = join([alcohol, likes])\n",
    "alcohol_likes.head()"
   ]
  },
  {
   "cell_type": "code",
   "execution_count": 5,
   "metadata": {},
   "outputs": [
    {
     "output_type": "execute_result",
     "data": {
      "text/plain": "            Alcohol prices  New page likes\ndate                                      \n2019-04-01      103.300000              10\n2019-04-02      103.356667              19\n2019-04-03      103.413333              23\n2019-04-04      103.470000              12\n2019-04-05      103.526667               9",
      "text/html": "<div>\n<style scoped>\n    .dataframe tbody tr th:only-of-type {\n        vertical-align: middle;\n    }\n\n    .dataframe tbody tr th {\n        vertical-align: top;\n    }\n\n    .dataframe thead th {\n        text-align: right;\n    }\n</style>\n<table border=\"1\" class=\"dataframe\">\n  <thead>\n    <tr style=\"text-align: right;\">\n      <th></th>\n      <th>Alcohol prices</th>\n      <th>New page likes</th>\n    </tr>\n    <tr>\n      <th>date</th>\n      <th></th>\n      <th></th>\n    </tr>\n  </thead>\n  <tbody>\n    <tr>\n      <th>2019-04-01</th>\n      <td>103.300000</td>\n      <td>10</td>\n    </tr>\n    <tr>\n      <th>2019-04-02</th>\n      <td>103.356667</td>\n      <td>19</td>\n    </tr>\n    <tr>\n      <th>2019-04-03</th>\n      <td>103.413333</td>\n      <td>23</td>\n    </tr>\n    <tr>\n      <th>2019-04-04</th>\n      <td>103.470000</td>\n      <td>12</td>\n    </tr>\n    <tr>\n      <th>2019-04-05</th>\n      <td>103.526667</td>\n      <td>9</td>\n    </tr>\n  </tbody>\n</table>\n</div>"
     },
     "metadata": {},
     "execution_count": 5
    }
   ],
   "source": [
    "interpolated = alcohol_likes.interpolate()\n",
    "interpolated.head()"
   ]
  },
  {
   "cell_type": "code",
   "execution_count": 6,
   "metadata": {},
   "outputs": [
    {
     "output_type": "execute_result",
     "data": {
      "text/plain": "            Alcohol prices  New page likes\ndate                                      \n2019-04-01      104.177268        14.21875\n2019-04-02      104.177268        14.21875\n2019-04-03      104.177268        14.21875\n2019-04-04      104.177268        14.21875\n2019-04-05      104.177268        14.21875",
      "text/html": "<div>\n<style scoped>\n    .dataframe tbody tr th:only-of-type {\n        vertical-align: middle;\n    }\n\n    .dataframe tbody tr th {\n        vertical-align: top;\n    }\n\n    .dataframe thead th {\n        text-align: right;\n    }\n</style>\n<table border=\"1\" class=\"dataframe\">\n  <thead>\n    <tr style=\"text-align: right;\">\n      <th></th>\n      <th>Alcohol prices</th>\n      <th>New page likes</th>\n    </tr>\n    <tr>\n      <th>date</th>\n      <th></th>\n      <th></th>\n    </tr>\n  </thead>\n  <tbody>\n    <tr>\n      <th>2019-04-01</th>\n      <td>104.177268</td>\n      <td>14.21875</td>\n    </tr>\n    <tr>\n      <th>2019-04-02</th>\n      <td>104.177268</td>\n      <td>14.21875</td>\n    </tr>\n    <tr>\n      <th>2019-04-03</th>\n      <td>104.177268</td>\n      <td>14.21875</td>\n    </tr>\n    <tr>\n      <th>2019-04-04</th>\n      <td>104.177268</td>\n      <td>14.21875</td>\n    </tr>\n    <tr>\n      <th>2019-04-05</th>\n      <td>104.177268</td>\n      <td>14.21875</td>\n    </tr>\n  </tbody>\n</table>\n</div>"
     },
     "metadata": {},
     "execution_count": 6
    }
   ],
   "source": [
    "rolling_mean = interpolated.rolling(window=32).mean()\n",
    "rolling_mean = rolling_mean.fillna(method='bfill')\n",
    "rolling_mean.head()"
   ]
  },
  {
   "cell_type": "code",
   "execution_count": 7,
   "metadata": {},
   "outputs": [
    {
     "output_type": "execute_result",
     "data": {
      "text/plain": "array([[ 1.        , -0.84448032],\n       [-0.84448032,  1.        ]])"
     },
     "metadata": {},
     "execution_count": 7
    }
   ],
   "source": [
    "beer_sales = 250 - (rolling_mean['Alcohol prices'].copy() - 100) * 20\n",
    "beer_sales += np.random.normal(scale=10, size=len(beer_sales))\n",
    "beer_sales += np.sin(np.linspace(0, 2 * np.pi * len(beer_sales) / 7, len(beer_sales))) * 10\n",
    "beer_sales += np.sin(np.linspace(0, 2 * np.pi * len(beer_sales) / 365, len(beer_sales))) * 15\n",
    "np.corrcoef(beer_sales, rolling_mean['Alcohol prices'])"
   ]
  },
  {
   "cell_type": "code",
   "execution_count": 8,
   "metadata": {},
   "outputs": [
    {
     "output_type": "execute_result",
     "data": {
      "text/plain": "47.31752905182603"
     },
     "metadata": {},
     "execution_count": 8
    }
   ],
   "source": [
    "beer_sales.min()"
   ]
  },
  {
   "cell_type": "code",
   "execution_count": 9,
   "metadata": {},
   "outputs": [
    {
     "output_type": "execute_result",
     "data": {
      "text/plain": "array([[1.        , 0.56576679],\n       [0.56576679, 1.        ]])"
     },
     "metadata": {},
     "execution_count": 9
    }
   ],
   "source": [
    "lemonade_sales = 100 + rolling_mean['New page likes'].copy()\n",
    "lemonade_sales += np.random.normal(scale=4, size=len(lemonade_sales))\n",
    "lemonade_sales += np.cos(np.linspace(0, 2 * np.pi * len(lemonade_sales) / 7, len(lemonade_sales))) * 1\n",
    "lemonade_sales += np.cos(np.linspace(0, 2 * np.pi * len(lemonade_sales) / 365, len(lemonade_sales))) * 2\n",
    "np.corrcoef(lemonade_sales, rolling_mean['New page likes'])"
   ]
  },
  {
   "cell_type": "code",
   "execution_count": 10,
   "metadata": {},
   "outputs": [],
   "source": [
    "pd.DataFrame.from_dict({\n",
    "    'Date': interpolated.index,\n",
    "    'Lemonade sales': lemonade_sales,\n",
    "    'Beer sales': beer_sales\n",
    "}).to_excel('../examples/beverage-sales.xls', index=False)"
   ]
  }
 ],
 "metadata": {
  "language_info": {
   "codemirror_mode": {
    "name": "ipython",
    "version": 3
   },
   "file_extension": ".py",
   "mimetype": "text/x-python",
   "name": "python",
   "nbconvert_exporter": "python",
   "pygments_lexer": "ipython3",
   "version": "3.7.7-final"
  },
  "orig_nbformat": 2,
  "kernelspec": {
   "name": "python37764bitaivenv5ef05f08934749d89ee1a1042231ffb2",
   "display_name": "Python 3.7.7 64-bit ('ai': venv)"
  }
 },
 "nbformat": 4,
 "nbformat_minor": 2
}